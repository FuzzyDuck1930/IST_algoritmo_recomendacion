{
  "nbformat": 4,
  "nbformat_minor": 0,
  "metadata": {
    "colab": {
      "provenance": []
    },
    "kernelspec": {
      "name": "python3",
      "display_name": "Python 3"
    },
    "language_info": {
      "name": "python"
    }
  },
  "cells": [
    {
      "cell_type": "code",
      "execution_count": null,
      "metadata": {
        "id": "4pul1KCEk9IR"
      },
      "outputs": [],
      "source": [
        "import pandas as pd\n",
        "\n",
        "# Creamos un dataset simulado\n",
        "data = [\n",
        "    {\n",
        "        \"nombre\": \"Sky Warriors\",\n",
        "        \"genero\": \"Acción\",\n",
        "        \"etiquetas\": \"aviones, disparos, multijugador\",\n",
        "        \"desarrollador\": \"AeroSoft\"\n",
        "    },\n",
        "    {\n",
        "        \"nombre\": \"Magic Valley\",\n",
        "        \"genero\": \"Aventura\",\n",
        "        \"etiquetas\": \"magia, fantasía, historia\",\n",
        "        \"desarrollador\": \"DreamForge\"\n",
        "    },\n",
        "    {\n",
        "        \"nombre\": \"Cyber Battle\",\n",
        "        \"genero\": \"Acción\",\n",
        "        \"etiquetas\": \"futurista, robots, disparos\",\n",
        "        \"desarrollador\": \"TechZone\"\n",
        "    },\n",
        "    {\n",
        "        \"nombre\": \"Farm Life\",\n",
        "        \"genero\": \"Simulación\",\n",
        "        \"etiquetas\": \"granja, relajante, agricultura\",\n",
        "        \"desarrollador\": \"NatureSoft\"\n",
        "    },\n",
        "    {\n",
        "        \"nombre\": \"Dungeon Quest\",\n",
        "        \"genero\": \"RPG\",\n",
        "        \"etiquetas\": \"mazmorras, monstruos, estrategia\",\n",
        "        \"desarrollador\": \"DreamForge\"\n",
        "    },\n",
        "    {\n",
        "        \"nombre\": \"Star Racers\",\n",
        "        \"genero\": \"Carreras\",\n",
        "        \"etiquetas\": \"espacio, velocidad, naves\",\n",
        "        \"desarrollador\": \"AeroSoft\"\n",
        "    },\n",
        "    {\n",
        "        \"nombre\": \"Zombie Escape\",\n",
        "        \"genero\": \"Terror\",\n",
        "        \"etiquetas\": \"zombies, supervivencia, disparos\",\n",
        "        \"desarrollador\": \"DarkLabs\"\n",
        "    },\n",
        "    {\n",
        "        \"nombre\": \"Cooking Master\",\n",
        "        \"genero\": \"Casual\",\n",
        "        \"etiquetas\": \"cocina, recetas, relajante\",\n",
        "        \"desarrollador\": \"KitchenFun\"\n",
        "    },\n",
        "    {\n",
        "        \"nombre\": \"Robot Uprising\",\n",
        "        \"genero\": \"Estrategia\",\n",
        "        \"etiquetas\": \"robots, futuro, táctica\",\n",
        "        \"desarrollador\": \"TechZone\"\n",
        "    },\n",
        "    {\n",
        "        \"nombre\": \"Fairy Tales\",\n",
        "        \"genero\": \"Aventura\",\n",
        "        \"etiquetas\": \"cuentos, fantasía, magia\",\n",
        "        \"desarrollador\": \"DreamForge\"\n",
        "    }\n",
        "]\n",
        "\n",
        "df = pd.DataFrame(data)"
      ]
    },
    {
      "cell_type": "code",
      "source": [
        "# Unimos género, etiquetas y desarrollador en una sola columna de texto\n",
        "def combinar_contenido(row):\n",
        "    return f\"{row['genero']} {row['etiquetas']} {row['desarrollador']}\"\n",
        "\n",
        "df[\"contenido\"] = df.apply(combinar_contenido, axis=1)"
      ],
      "metadata": {
        "id": "qErlqFw5lJAF"
      },
      "execution_count": null,
      "outputs": []
    },
    {
      "cell_type": "code",
      "source": [
        "from sklearn.feature_extraction.text import CountVectorizer\n",
        "from sklearn.metrics.pairwise import cosine_similarity\n",
        "\n",
        "# Vectorizamos el texto\n",
        "vectorizer = CountVectorizer()\n",
        "matriz_vectores = vectorizer.fit_transform(df[\"contenido\"])\n",
        "\n",
        "# Calculamos similitud coseno\n",
        "similitud = cosine_similarity(matriz_vectores)"
      ],
      "metadata": {
        "id": "oNYbWVtxlRrB"
      },
      "execution_count": null,
      "outputs": []
    },
    {
      "cell_type": "code",
      "source": [
        "def recomendar_juegos(nombre_juego, num_recomendaciones=3):\n",
        "    if nombre_juego not in df[\"nombre\"].values:\n",
        "        print(\"Juego no encontrado.\")\n",
        "        return\n",
        "\n",
        "    idx = df[df[\"nombre\"] == nombre_juego].index[0]\n",
        "    similitudes = list(enumerate(similitud[idx]))\n",
        "    similitudes = sorted(similitudes, key=lambda x: x[1], reverse=True)\n",
        "    similitudes = similitudes[1:num_recomendaciones+1]  # Excluye el mismo juego\n",
        "\n",
        "    print(f\"\\n🎮 Recomendaciones similares a '{nombre_juego}':\\n\")\n",
        "    for i, (index, score) in enumerate(similitudes):\n",
        "        juego = df.iloc[index]\n",
        "        print(f\"{i+1}. {juego['nombre']} (Similitud: {score:.2f})\")"
      ],
      "metadata": {
        "id": "XE9IPINvqWi2"
      },
      "execution_count": null,
      "outputs": []
    },
    {
      "cell_type": "code",
      "source": [
        "recomendar_juegos(\"Cyber Battle\")"
      ],
      "metadata": {
        "id": "Se7XswPgqZKF",
        "outputId": "ce7d1d12-ac97-4223-ce03-cad18758ff24",
        "colab": {
          "base_uri": "https://localhost:8080/"
        }
      },
      "execution_count": null,
      "outputs": [
        {
          "output_type": "stream",
          "name": "stdout",
          "text": [
            "\n",
            "🎮 Recomendaciones similares a 'Cyber Battle':\n",
            "\n",
            "1. Sky Warriors (Similitud: 0.40)\n",
            "2. Robot Uprising (Similitud: 0.40)\n",
            "3. Zombie Escape (Similitud: 0.20)\n"
          ]
        }
      ]
    }
  ]
}